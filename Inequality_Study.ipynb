{
 "cells": [
  {
   "cell_type": "markdown",
   "metadata": {},
   "source": [
    "# Motivation:\n",
    "As the 2020 American presidential election becomes more imminent, many candidates are proposing their stances on different hyped-up issues. One of which is tax. It is quoted that many Americans support higher marginal tax rate for the rich, with the belief that such a policy will decrease the level of inequality in US.\n",
    "\n",
    "Having heard many economists, politicians, and celebrities proposing (arguing) their opinions on such issue, I decided that I'm too overwhelmed by all schools of thoughts. So I want to objectively understand how or even if inequality contributed to many societal issues.\n",
    "\n",
    "As a trained data scientist, of course I would turn to data analytics to get to the bottom of inequality and its ramifications.\n",
    "\n",
    "Here is my study on inequality and its societal ramification across the world."
   ]
  },
  {
   "cell_type": "markdown",
   "metadata": {},
   "source": [
    "# Table of Content:\n",
    "<a href='#Import_libraries'># Import libraries</a>\n",
    "\n",
    "<a href='#Preprocess_files'># Preprocess files</a>\n",
    "\n",
    "<a href='#case1'>1. Case study on 2014</a>\n",
    "\n",
    "<a href='#case2'>2. Case study over the past 4 decades</a>\n",
    "\n",
    "<a href='#Parting_words'># Parting words</a>"
   ]
  },
  {
   "cell_type": "markdown",
   "metadata": {},
   "source": [
    "<a id='Import_libraries'></a>\n",
    "# # Import libraries"
   ]
  },
  {
   "cell_type": "code",
   "execution_count": 1,
   "metadata": {
    "collapsed": true
   },
   "outputs": [],
   "source": [
    "import zipfile\n",
    "import os\n",
    "\n",
    "import pandas as pd\n",
    "from functools import reduce\n",
    "import numpy as np\n",
    "\n",
    "from sklearn.preprocessing import scale, StandardScaler\n",
    "import statsmodels.api as sm\n",
    "from sklearn.linear_model import LinearRegression\n",
    "from sklearn.ensemble import GradientBoostingRegressor\n",
    "\n",
    "import seaborn as sns\n",
    "import matplotlib.pyplot as plt\n",
    "\n",
    "from sklearn.ensemble.partial_dependence import plot_partial_dependence\n",
    "from sklearn.ensemble.partial_dependence import partial_dependence"
   ]
  },
  {
   "cell_type": "markdown",
   "metadata": {},
   "source": [
    "# # Measurement chosen for inequality: Gini Index \n",
    "## Gini Index Explained:\n",
    "It is often used as a gauge of economic inequality, measuring income distribution or, less commonly, wealth distribution among a population. The coefficient ranges from 0 (or 0%) to 1 (or 100%), with 0 representing perfect equality and 1 representing perfect inequality. Values over 1 are theoretically possible due to negative income or wealth. <html>https://www.investopedia.com/terms/g/gini-index.asp</html>\n",
    "\n",
    "In summary:\n",
    "- gini close to 1 -> inequality\n",
    "- gini close to 0 -> equality"
   ]
  },
  {
   "cell_type": "markdown",
   "metadata": {},
   "source": [
    "<a id='Preprocess_files'></a>\n",
    "# # Preprocess files\n",
    "\n",
    "All data downloaded from world bank database. Data is provided from 1960 to 2018.\n",
    "<html>https://data.worldbank.org/</html>\n",
    "\n",
    "Included measures: (Inspired by a recent episode on BBC business daily called Taxing the Rich)\n",
    "<html>https://www.bbc.co.uk/sounds/play/w3cswgls</html>\n",
    "\n",
    "- Inequality\n",
    "    - GINI index\n",
    "\n",
    "- Economics\n",
    "    - Unemployment \n",
    "    - GDP in current US dollar\n",
    "    - Taxes on income, profits and capital gains\n",
    "        - % of total taxes\n",
    "        - in current US dollar converted from local currency   \n",
    "    - Taxes on goods and services in current US dollar                                                                 \n",
    "    \n",
    "- Life Quality\n",
    "    - Current health expenditure as % of GDP                                                                    \n",
    "    - Teenage mothers (% of women ages 15-19 who have had children or are currently pregnant)                           \n",
    "    - Internally displaced persons, new displacement associated with conflict and violence (number of cases)    "
   ]
  },
  {
   "cell_type": "code",
   "execution_count": 6,
   "metadata": {},
   "outputs": [
    {
     "data": {
      "text/plain": [
       "['API_GC.TAX.YPKG.CN_DS2_en_csv_v2_10474133.zip',\n",
       " 'API_SP.MTR.1519.ZS_DS2_en_csv_v2_10478088.zip',\n",
       " 'API_SL.UEM.TOTL.NE.ZS_DS2_en_csv_v2_10475519.zip',\n",
       " 'API_GC.TAX.YPKG.ZS_DS2_en_csv_v2_10404978.zip',\n",
       " 'API_NY.GDP.MKTP.CN_DS2_en_csv_v2_10473693.zip',\n",
       " 'API_SH.XPD.CHEX.GD.ZS_DS2_en_csv_v2_10473783.zip',\n",
       " 'API_SI.POV.GINI_DS2_en_csv_v2_10473721.zip',\n",
       " 'API_GC.TAX.GSRV.CN_DS2_en_csv_v2_10477831.zip',\n",
       " 'API_VC.IDP.NWCV_DS2_en_csv_v2_10478091.zip',\n",
       " 'API_NY.GDP.MKTP.CD_DS2_en_csv_v2_10475113.zip']"
      ]
     },
     "execution_count": 6,
     "metadata": {},
     "output_type": "execute_result"
    }
   ],
   "source": [
    "files = os.listdir(\"./data\")\n",
    "files = [x for x in files if \".zip\" in x]\n",
    "files"
   ]
  },
  {
   "cell_type": "markdown",
   "metadata": {},
   "source": [
    "<a id='case1'></a>\n",
    "# 1. Case study based on 2014 data\n",
    "- Only 2014 data is being used since it has the least sparse data."
   ]
  },
  {
   "cell_type": "code",
   "execution_count": 7,
   "metadata": {
    "collapsed": true
   },
   "outputs": [],
   "source": [
    "dfs = {}\n",
    "\n",
    "for file_name in files:\n",
    "    # opening the zip file in READ mode \n",
    "    with zipfile.ZipFile(\"./data/\"+ file_name, 'r') as f: \n",
    "        # printing all the contents of the zip file \n",
    "        #f.printdir()\n",
    "        dfs[file_name] = pd.read_csv(f.open(file_name.replace(\".zip\", \".csv\")), header=2, error_bad_lines=False)"
   ]
  },
  {
   "cell_type": "code",
   "execution_count": 8,
   "metadata": {},
   "outputs": [
    {
     "data": {
      "text/plain": [
       "10"
      ]
     },
     "execution_count": 8,
     "metadata": {},
     "output_type": "execute_result"
    }
   ],
   "source": [
    "len(dfs)"
   ]
  },
  {
   "cell_type": "code",
   "execution_count": 9,
   "metadata": {},
   "outputs": [
    {
     "data": {
      "text/plain": [
       "(264, 64)"
      ]
     },
     "execution_count": 9,
     "metadata": {},
     "output_type": "execute_result"
    }
   ],
   "source": [
    "dfs[files[0]].shape"
   ]
  },
  {
   "cell_type": "code",
   "execution_count": 10,
   "metadata": {
    "collapsed": true,
    "scrolled": true
   },
   "outputs": [],
   "source": [
    "# use only 2014 data for least sparsity\n",
    "dfList = []\n",
    "for key, value in dfs.items():\n",
    "    thing = value.iloc[:,[1,2,58]]\n",
    "    thing = thing.rename(columns={thing.columns[-1]:thing.iloc[1,1]})\n",
    "    thing = thing.drop(\"Indicator Name\", axis = 1)\n",
    "    dfList.append(thing)"
   ]
  },
  {
   "cell_type": "code",
   "execution_count": 11,
   "metadata": {
    "collapsed": true
   },
   "outputs": [],
   "source": [
    "full = reduce(lambda x, y: pd.merge(x, y, on = 'Country Code'), dfList)"
   ]
  },
  {
   "cell_type": "code",
   "execution_count": 13,
   "metadata": {
    "collapsed": true,
    "scrolled": true
   },
   "outputs": [],
   "source": [
    "country_names = dfs[files[0]][['Country Name', 'Country Code']]"
   ]
  },
  {
   "cell_type": "code",
   "execution_count": 14,
   "metadata": {
    "collapsed": true
   },
   "outputs": [],
   "source": [
    "# creating features standardized by US$\n",
    "full['Taxes on goods and services (current US$)'] = full['Taxes on goods and services (current LCU)'] / full['GDP (current LCU)'] * full['GDP (current US$)']\n",
    "full['Taxes on income, profits and capital gains (current US$)'] = full['Taxes on income, profits and capital gains (current LCU)'] / full['GDP (current LCU)'] * full['GDP (current US$)']"
   ]
  },
  {
   "cell_type": "code",
   "execution_count": 16,
   "metadata": {
    "scrolled": true
   },
   "outputs": [
    {
     "data": {
      "text/plain": [
       "Country Code                                                                                                0\n",
       "Unemployment, total (% of total labor force) (national estimate)                                          120\n",
       "Current health expenditure (% of GDP)                                                                      31\n",
       "GDP (current LCU)                                                                                          58\n",
       "Taxes on goods and services (current LCU)                                                                 136\n",
       "Teenage mothers (% of women ages 15-19 who have had children or are currently pregnant)                   252\n",
       "GINI index (World Bank estimate)                                                                          194\n",
       "Taxes on income, profits and capital gains (current LCU)                                                  139\n",
       "GDP (current US$)                                                                                          15\n",
       "Internally displaced persons, new displacement associated with conflict and violence (number of cases)    229\n",
       "Taxes on income, profits and capital gains (% of total taxes)                                             139\n",
       "Taxes on goods and services (current US$)                                                                 136\n",
       "Taxes on income, profits and capital gains (current US$)                                                  139\n",
       "dtype: int64"
      ]
     },
     "execution_count": 16,
     "metadata": {},
     "output_type": "execute_result"
    }
   ],
   "source": [
    "full.isnull().sum()"
   ]
  },
  {
   "cell_type": "code",
   "execution_count": 17,
   "metadata": {
    "collapsed": true
   },
   "outputs": [],
   "source": [
    "# keep only countried reported gini indexes\n",
    "sub = full.iloc[full.loc[:,\"GINI index (World Bank estimate)\"].dropna().index,:]"
   ]
  },
  {
   "cell_type": "code",
   "execution_count": 18,
   "metadata": {},
   "outputs": [
    {
     "data": {
      "text/plain": [
       "Country Code                                                                                              0.000000\n",
       "Unemployment, total (% of total labor force) (national estimate)                                          0.157143\n",
       "Current health expenditure (% of GDP)                                                                     0.014286\n",
       "GDP (current LCU)                                                                                         0.000000\n",
       "Taxes on goods and services (current LCU)                                                                 0.171429\n",
       "Teenage mothers (% of women ages 15-19 who have had children or are currently pregnant)                   0.985714\n",
       "GINI index (World Bank estimate)                                                                          0.000000\n",
       "Taxes on income, profits and capital gains (current LCU)                                                  0.171429\n",
       "GDP (current US$)                                                                                         0.000000\n",
       "Internally displaced persons, new displacement associated with conflict and violence (number of cases)    0.885714\n",
       "Taxes on income, profits and capital gains (% of total taxes)                                             0.171429\n",
       "Taxes on goods and services (current US$)                                                                 0.171429\n",
       "Taxes on income, profits and capital gains (current US$)                                                  0.171429\n",
       "dtype: float64"
      ]
     },
     "execution_count": 18,
     "metadata": {},
     "output_type": "execute_result"
    }
   ],
   "source": [
    "sub.isnull().sum()/sub.shape[0]"
   ]
  },
  {
   "cell_type": "markdown",
   "metadata": {},
   "source": [
    "- Two data columns [Internally displaced persons, new displacement associated with conflict and violence (number of cases), and Teenage mothers (% of women ages 15-19 who have had children or are currently pregnant)] are highly sparse, so they are excluded from the analysis."
   ]
  },
  {
   "cell_type": "code",
   "execution_count": 105,
   "metadata": {
    "collapsed": true
   },
   "outputs": [],
   "source": [
    "# get rid of massively missing data & fill missing data with median\n",
    "filled = sub.loc[:,['Country Code',\n",
    "       'Unemployment, total (% of total labor force) (national estimate)',            \n",
    "       'GDP (current US$)',\n",
    "       'Current health expenditure (% of GDP)',\n",
    "       'GINI index (World Bank estimate)',\n",
    "       'Taxes on income, profits and capital gains (% of total taxes)',\n",
    "       'Taxes on goods and services (current US$)',\n",
    "       'Taxes on income, profits and capital gains (current US$)']].fillna(sub.median())"
   ]
  },
  {
   "cell_type": "code",
   "execution_count": 106,
   "metadata": {},
   "outputs": [
    {
     "data": {
      "text/plain": [
       "(70, 8)"
      ]
     },
     "execution_count": 106,
     "metadata": {},
     "output_type": "execute_result"
    }
   ],
   "source": [
    "# data info\n",
    "filled.shape"
   ]
  },
  {
   "cell_type": "code",
   "execution_count": 107,
   "metadata": {
    "scrolled": false
   },
   "outputs": [
    {
     "data": {
      "text/html": [
       "<div>\n",
       "<style>\n",
       "    .dataframe thead tr:only-child th {\n",
       "        text-align: right;\n",
       "    }\n",
       "\n",
       "    .dataframe thead th {\n",
       "        text-align: left;\n",
       "    }\n",
       "\n",
       "    .dataframe tbody tr th {\n",
       "        vertical-align: top;\n",
       "    }\n",
       "</style>\n",
       "<table border=\"1\" class=\"dataframe\">\n",
       "  <thead>\n",
       "    <tr style=\"text-align: right;\">\n",
       "      <th></th>\n",
       "      <th>Unemployment, total (% of total labor force) (national estimate)</th>\n",
       "      <th>GDP (current US$)</th>\n",
       "      <th>Current health expenditure (% of GDP)</th>\n",
       "      <th>GINI index (World Bank estimate)</th>\n",
       "      <th>Taxes on income, profits and capital gains (% of total taxes)</th>\n",
       "      <th>Taxes on goods and services (current US$)</th>\n",
       "      <th>Taxes on income, profits and capital gains (current US$)</th>\n",
       "    </tr>\n",
       "  </thead>\n",
       "  <tbody>\n",
       "    <tr>\n",
       "      <th>Unemployment, total (% of total labor force) (national estimate)</th>\n",
       "      <td>1.000000</td>\n",
       "      <td>0.000659</td>\n",
       "      <td>0.086211</td>\n",
       "      <td>-0.043208</td>\n",
       "      <td>0.022158</td>\n",
       "      <td>0.030276</td>\n",
       "      <td>0.040261</td>\n",
       "    </tr>\n",
       "    <tr>\n",
       "      <th>GDP (current US$)</th>\n",
       "      <td>0.000659</td>\n",
       "      <td>1.000000</td>\n",
       "      <td>0.263700</td>\n",
       "      <td>0.054678</td>\n",
       "      <td>0.198552</td>\n",
       "      <td>0.950287</td>\n",
       "      <td>0.886926</td>\n",
       "    </tr>\n",
       "    <tr>\n",
       "      <th>Current health expenditure (% of GDP)</th>\n",
       "      <td>0.086211</td>\n",
       "      <td>0.263700</td>\n",
       "      <td>1.000000</td>\n",
       "      <td>-0.208963</td>\n",
       "      <td>0.041129</td>\n",
       "      <td>0.318864</td>\n",
       "      <td>0.350871</td>\n",
       "    </tr>\n",
       "    <tr>\n",
       "      <th>GINI index (World Bank estimate)</th>\n",
       "      <td>-0.043208</td>\n",
       "      <td>0.054678</td>\n",
       "      <td>-0.208963</td>\n",
       "      <td>1.000000</td>\n",
       "      <td>0.055070</td>\n",
       "      <td>-0.032067</td>\n",
       "      <td>-0.031462</td>\n",
       "    </tr>\n",
       "    <tr>\n",
       "      <th>Taxes on income, profits and capital gains (% of total taxes)</th>\n",
       "      <td>0.022158</td>\n",
       "      <td>0.198552</td>\n",
       "      <td>0.041129</td>\n",
       "      <td>0.055070</td>\n",
       "      <td>1.000000</td>\n",
       "      <td>0.219165</td>\n",
       "      <td>0.359291</td>\n",
       "    </tr>\n",
       "    <tr>\n",
       "      <th>Taxes on goods and services (current US$)</th>\n",
       "      <td>0.030276</td>\n",
       "      <td>0.950287</td>\n",
       "      <td>0.318864</td>\n",
       "      <td>-0.032067</td>\n",
       "      <td>0.219165</td>\n",
       "      <td>1.000000</td>\n",
       "      <td>0.951524</td>\n",
       "    </tr>\n",
       "    <tr>\n",
       "      <th>Taxes on income, profits and capital gains (current US$)</th>\n",
       "      <td>0.040261</td>\n",
       "      <td>0.886926</td>\n",
       "      <td>0.350871</td>\n",
       "      <td>-0.031462</td>\n",
       "      <td>0.359291</td>\n",
       "      <td>0.951524</td>\n",
       "      <td>1.000000</td>\n",
       "    </tr>\n",
       "  </tbody>\n",
       "</table>\n",
       "</div>"
      ],
      "text/plain": [
       "                                                    Unemployment, total (% of total labor force) (national estimate)  \\\n",
       "Unemployment, total (% of total labor force) (n...                                           1.000000                  \n",
       "GDP (current US$)                                                                            0.000659                  \n",
       "Current health expenditure (% of GDP)                                                        0.086211                  \n",
       "GINI index (World Bank estimate)                                                            -0.043208                  \n",
       "Taxes on income, profits and capital gains (% o...                                           0.022158                  \n",
       "Taxes on goods and services (current US$)                                                    0.030276                  \n",
       "Taxes on income, profits and capital gains (cur...                                           0.040261                  \n",
       "\n",
       "                                                    GDP (current US$)  \\\n",
       "Unemployment, total (% of total labor force) (n...           0.000659   \n",
       "GDP (current US$)                                            1.000000   \n",
       "Current health expenditure (% of GDP)                        0.263700   \n",
       "GINI index (World Bank estimate)                             0.054678   \n",
       "Taxes on income, profits and capital gains (% o...           0.198552   \n",
       "Taxes on goods and services (current US$)                    0.950287   \n",
       "Taxes on income, profits and capital gains (cur...           0.886926   \n",
       "\n",
       "                                                    Current health expenditure (% of GDP)  \\\n",
       "Unemployment, total (% of total labor force) (n...                               0.086211   \n",
       "GDP (current US$)                                                                0.263700   \n",
       "Current health expenditure (% of GDP)                                            1.000000   \n",
       "GINI index (World Bank estimate)                                                -0.208963   \n",
       "Taxes on income, profits and capital gains (% o...                               0.041129   \n",
       "Taxes on goods and services (current US$)                                        0.318864   \n",
       "Taxes on income, profits and capital gains (cur...                               0.350871   \n",
       "\n",
       "                                                    GINI index (World Bank estimate)  \\\n",
       "Unemployment, total (% of total labor force) (n...                         -0.043208   \n",
       "GDP (current US$)                                                           0.054678   \n",
       "Current health expenditure (% of GDP)                                      -0.208963   \n",
       "GINI index (World Bank estimate)                                            1.000000   \n",
       "Taxes on income, profits and capital gains (% o...                          0.055070   \n",
       "Taxes on goods and services (current US$)                                  -0.032067   \n",
       "Taxes on income, profits and capital gains (cur...                         -0.031462   \n",
       "\n",
       "                                                    Taxes on income, profits and capital gains (% of total taxes)  \\\n",
       "Unemployment, total (% of total labor force) (n...                                           0.022158               \n",
       "GDP (current US$)                                                                            0.198552               \n",
       "Current health expenditure (% of GDP)                                                        0.041129               \n",
       "GINI index (World Bank estimate)                                                             0.055070               \n",
       "Taxes on income, profits and capital gains (% o...                                           1.000000               \n",
       "Taxes on goods and services (current US$)                                                    0.219165               \n",
       "Taxes on income, profits and capital gains (cur...                                           0.359291               \n",
       "\n",
       "                                                    Taxes on goods and services (current US$)  \\\n",
       "Unemployment, total (% of total labor force) (n...                                   0.030276   \n",
       "GDP (current US$)                                                                    0.950287   \n",
       "Current health expenditure (% of GDP)                                                0.318864   \n",
       "GINI index (World Bank estimate)                                                    -0.032067   \n",
       "Taxes on income, profits and capital gains (% o...                                   0.219165   \n",
       "Taxes on goods and services (current US$)                                            1.000000   \n",
       "Taxes on income, profits and capital gains (cur...                                   0.951524   \n",
       "\n",
       "                                                    Taxes on income, profits and capital gains (current US$)  \n",
       "Unemployment, total (% of total labor force) (n...                                           0.040261         \n",
       "GDP (current US$)                                                                            0.886926         \n",
       "Current health expenditure (% of GDP)                                                        0.350871         \n",
       "GINI index (World Bank estimate)                                                            -0.031462         \n",
       "Taxes on income, profits and capital gains (% o...                                           0.359291         \n",
       "Taxes on goods and services (current US$)                                                    0.951524         \n",
       "Taxes on income, profits and capital gains (cur...                                           1.000000         "
      ]
     },
     "execution_count": 107,
     "metadata": {},
     "output_type": "execute_result"
    }
   ],
   "source": [
    "# linear correlation first look\n",
    "filled.corr()"
   ]
  },
  {
   "cell_type": "code",
   "execution_count": 108,
   "metadata": {
    "collapsed": true
   },
   "outputs": [],
   "source": [
    "# split X, y\n",
    "X = filled.drop([\"Country Code\", \"GINI index (World Bank estimate)\"], axis = 1)\n",
    "Y = filled.loc[:, \"GINI index (World Bank estimate)\"]"
   ]
  },
  {
   "cell_type": "code",
   "execution_count": 109,
   "metadata": {
    "collapsed": true
   },
   "outputs": [],
   "source": [
    "# standardization\n",
    "scl = StandardScaler(copy=True, with_mean=True, with_std=True)\n",
    "X_std = scl.fit_transform(X)"
   ]
  },
  {
   "cell_type": "markdown",
   "metadata": {},
   "source": [
    "# # Build Model"
   ]
  },
  {
   "cell_type": "markdown",
   "metadata": {},
   "source": [
    "## - Simple"
   ]
  },
  {
   "cell_type": "code",
   "execution_count": 110,
   "metadata": {},
   "outputs": [
    {
     "data": {
      "text/plain": [
       "0.11282663729294407"
      ]
     },
     "execution_count": 110,
     "metadata": {},
     "output_type": "execute_result"
    }
   ],
   "source": [
    "lr = LinearRegression()\n",
    "lr1 = LinearRegression.fit(lr, X = X_std, y = Y)\n",
    "\n",
    "# Score of the linear model\n",
    "lr1.score(X_std, Y)"
   ]
  },
  {
   "cell_type": "code",
   "execution_count": 111,
   "metadata": {},
   "outputs": [
    {
     "name": "stdout",
     "output_type": "stream",
     "text": [
      "                                   OLS Regression Results                                   \n",
      "============================================================================================\n",
      "Dep. Variable:     GINI index (World Bank estimate)   R-squared:                       0.113\n",
      "Model:                                          OLS   Adj. R-squared:                  0.028\n",
      "Method:                               Least Squares   F-statistic:                     1.335\n",
      "Date:                              Thu, 14 Feb 2019   Prob (F-statistic):              0.255\n",
      "Time:                                      12:33:05   Log-Likelihood:                -244.18\n",
      "No. Observations:                                70   AIC:                             502.4\n",
      "Df Residuals:                                    63   BIC:                             518.1\n",
      "Df Model:                                         6                                         \n",
      "Covariance Type:                          nonrobust                                         \n",
      "==============================================================================\n",
      "                 coef    std err          t      P>|t|      [0.025      0.975]\n",
      "------------------------------------------------------------------------------\n",
      "const         36.3914      0.998     36.474      0.000      34.398      38.385\n",
      "x1            -0.0566      1.005     -0.056      0.955      -2.065       1.952\n",
      "x2             7.0099      3.292      2.129      0.037       0.432      13.588\n",
      "x3            -1.6156      1.084     -1.490      0.141      -3.782       0.551\n",
      "x4             0.3385      1.195      0.283      0.778      -2.050       2.727\n",
      "x5            -7.8920      5.215     -1.513      0.135     -18.314       2.530\n",
      "x6             1.4752      3.889      0.379      0.706      -6.297       9.247\n",
      "==============================================================================\n",
      "Omnibus:                        9.863   Durbin-Watson:                   1.673\n",
      "Prob(Omnibus):                  0.007   Jarque-Bera (JB):                9.630\n",
      "Skew:                           0.854   Prob(JB):                      0.00811\n",
      "Kurtosis:                       3.620   Cond. No.                         11.5\n",
      "==============================================================================\n",
      "\n",
      "Warnings:\n",
      "[1] Standard Errors assume that the covariance matrix of the errors is correctly specified.\n"
     ]
    }
   ],
   "source": [
    "# Report the coefficients\n",
    "X2 = sm.add_constant(X_std)\n",
    "est = sm.OLS(Y, X2)\n",
    "est2 = est.fit()\n",
    "print(est2.summary())"
   ]
  },
  {
   "cell_type": "code",
   "execution_count": 112,
   "metadata": {},
   "outputs": [
    {
     "data": {
      "text/plain": [
       "[(1, 'Unemployment, total (% of total labor force) (national estimate)'),\n",
       " (2, 'GDP (current US$)'),\n",
       " (3, 'Current health expenditure (% of GDP)'),\n",
       " (4, 'Taxes on income, profits and capital gains (% of total taxes)'),\n",
       " (5, 'Taxes on goods and services (current US$)'),\n",
       " (6, 'Taxes on income, profits and capital gains (current US$)')]"
      ]
     },
     "execution_count": 112,
     "metadata": {},
     "output_type": "execute_result"
    }
   ],
   "source": [
    "list(zip(range(1,7),X.columns))"
   ]
  },
  {
   "cell_type": "markdown",
   "metadata": {},
   "source": [
    "> In terms of linear correlation, the only significantly correlated one with inequality (measured by gini index) is GDP. As suggested by the linear regression summary:\n",
    "- Higher GDP is positively related with higher inequality.\n",
    "- Otherwise, there does not seem to be strong linear correlation between any of the select features with inequality (measured by gini index)."
   ]
  },
  {
   "cell_type": "markdown",
   "metadata": {},
   "source": [
    "## - Tree model"
   ]
  },
  {
   "cell_type": "code",
   "execution_count": 113,
   "metadata": {},
   "outputs": [
    {
     "data": {
      "text/plain": [
       "0.982417994223079"
      ]
     },
     "execution_count": 113,
     "metadata": {},
     "output_type": "execute_result"
    }
   ],
   "source": [
    "model = GradientBoostingRegressor()\n",
    "#train the model\n",
    "model.fit(X, Y)\n",
    "#eval the model\n",
    "model.score(X, Y)"
   ]
  },
  {
   "cell_type": "code",
   "execution_count": 114,
   "metadata": {},
   "outputs": [
    {
     "data": {
      "text/plain": [
       "([<matplotlib.axis.YTick at 0x10d329128>,\n",
       "  <matplotlib.axis.YTick at 0x10ef39ba8>,\n",
       "  <matplotlib.axis.YTick at 0x10eb67128>,\n",
       "  <matplotlib.axis.YTick at 0x10eafd128>,\n",
       "  <matplotlib.axis.YTick at 0x10eafd828>,\n",
       "  <matplotlib.axis.YTick at 0x10eafdf28>],\n",
       " <a list of 6 Text yticklabel objects>)"
      ]
     },
     "execution_count": 114,
     "metadata": {},
     "output_type": "execute_result"
    },
    {
     "data": {
      "image/png": "[encoded data removed]",
      "text/plain": [
       "<matplotlib.figure.Figure at 0x10d148eb8>"
      ]
     },
     "metadata": {
      "needs_background": "light"
     },
     "output_type": "display_data"
    }
   ],
   "source": [
    "plt.barh(range(X.shape[1]),sorted(model.feature_importances_))\n",
    "plt.yticks(range(X.shape[1]), tuple(X.columns[np.argsort(model.feature_importances_)]))"
   ]
  },
  {
   "cell_type": "code",
   "execution_count": 115,
   "metadata": {},
   "outputs": [
    {
     "data": {
      "image/png": "[encoded data removed]",
      "text/plain": [
       "<matplotlib.figure.Figure at 0x10eb95518>"
      ]
     },
     "metadata": {
      "needs_background": "light"
     },
     "output_type": "display_data"
    }
   ],
   "source": [
    "features = list(range(6))\n",
    "fig, axs = plot_partial_dependence(model, X, features,\n",
    "                                   feature_names=X.columns, \n",
    "                                   n_cols = 2,\n",
    "                                   n_jobs=2, grid_resolution=30,\n",
    "                                  figsize=(18, 10))\n",
    "fig.suptitle('Partial dependence of Gini Index on Features', size = 30)\n",
    "plt.subplots_adjust(top=0.9)  # tight_layout causes overlap with suptitle"
   ]
  },
  {
   "cell_type": "markdown",
   "metadata": {},
   "source": [
    "> The features that seem to be most correlated with the Gini index are, GDP, Taxes on income, profits and capital gains (% of total taxes), and Unemployment % of total labor force. None of them are stricly linearly correlated with the Gini index.\n",
    "Based on the partial dependency plots, some of the most interesting findings are:\n",
    "1. Up to certain level, GDP is positivley correlated with the Gini index. i.e. A higher inequality is correlated with higher GDP. This corroborates the finding in the linear model.\n",
    "2. Unemployment is negativley correlated with the Gini index. i.e. A higher inequality is correlated with lower unemployment.\n",
    "3. % of total taxes coming from taxes on income, profits and capitals gains is positivley correlated with the Gini index. i.e. A higher inequality is correlated with higher % of total taxes coming from taxes on income, profits and capitals gains. This might have been due to the increasing marginal tax rate that is adopted by each country."
   ]
  },
  {
   "cell_type": "markdown",
   "metadata": {},
   "source": [
    "> The first two findings seem to be especially interesting since many economists are debating whether inequality is hurting the economy. Based on the data from 70 countries, the answer seems to be negative.\n",
    "\n",
    "However, what does it mean to have GDP positively correlate with inequality? Does it actually mean that the extra money allocated to the rich is more than fully recooped from their high-value generating work? Even when the finding is the ground truth, we still should not forget that after certain GDP level, the correlation goes the opposite way until there is almost no correlation. (Please refer to the first partial dependency plot)\n",
    "\n",
    "\n",
    "In the same light, what does it mean to have unemployment negatively correlate with inequality? Maybe when more people are employed, the newly employed generally fall into the extreme end of salaries (extremely low or high salary), and thus intensifying the income inequality?\n",
    "\n",
    "Moreover, what about the interaction between GDP and unemployment? The partial dependency plot compares the two variables of interest while holding all others constant, but what about the inter-dependency between GDP and unemployment? The following partial dependency plot will answer the question."
   ]
  },
  {
   "cell_type": "code",
   "execution_count": 116,
   "metadata": {},
   "outputs": [
    {
     "data": {
      "image/png": "[encoded data removed]",
      "text/plain": [
       "<matplotlib.figure.Figure at 0x10e96ab00>"
      ]
     },
     "metadata": {
      "needs_background": "light"
     },
     "output_type": "display_data"
    }
   ],
   "source": [
    "features = [(0,1)]\n",
    "fig, axs = plot_partial_dependence(model, X, features,\n",
    "                                   feature_names=X.columns, \n",
    "                                   n_cols = 2,\n",
    "                                   n_jobs=2, grid_resolution=30,\n",
    "                                  figsize=(8, 5))\n",
    "fig.suptitle('Partial dependence of Gini Index on Features', size = 15)\n",
    "plt.subplots_adjust(top=0.9)  # tight_layout causes overlap with suptitle"
   ]
  },
  {
   "cell_type": "markdown",
   "metadata": {},
   "source": [
    "> Still, higher unemployment correlates with lower inequality, even though the effect vanishes with a more than 5% unemployment.\n",
    "\n",
    "> The stratified correlation between GDP and inequality appears again in the graph.\n",
    "\n",
    ">In general, there is little inter-play between GDP and unemployment on inequality."
   ]
  },
  {
   "cell_type": "markdown",
   "metadata": {},
   "source": [
    "<a id='case2'></a>\n",
    "# 2. Let's expand the time frame\n",
    "\n",
    "Looking at the average value 1960 - 2018"
   ]
  },
  {
   "cell_type": "code",
   "execution_count": 62,
   "metadata": {
    "collapsed": true
   },
   "outputs": [],
   "source": [
    "data_avg = country_names.copy()\n",
    "for key, value in dfs.items():\n",
    "    data_avg[value.iloc[1, 2]] = value.iloc[:, 4:63].mean(skipna = True, axis = 1)"
   ]
  },
  {
   "cell_type": "code",
   "execution_count": 63,
   "metadata": {
    "collapsed": true
   },
   "outputs": [],
   "source": [
    "data_avg['Taxes on goods and services (current US$)'] = data_avg['Taxes on goods and services (current LCU)'] / data_avg['GDP (current LCU)'] * full['GDP (current US$)']"
   ]
  },
  {
   "cell_type": "code",
   "execution_count": 64,
   "metadata": {
    "collapsed": true
   },
   "outputs": [],
   "source": [
    "data_avg['Taxes on income, profits and capital gains (current US$)'] = data_avg['Taxes on income, profits and capital gains (current LCU)'] / full['GDP (current LCU)'] * data_avg['GDP (current US$)']"
   ]
  },
  {
   "cell_type": "code",
   "execution_count": 65,
   "metadata": {},
   "outputs": [
    {
     "data": {
      "text/plain": [
       "Country Name                                                                                                0\n",
       "Country Code                                                                                                0\n",
       "Unemployment, total (% of total labor force) (national estimate)                                           25\n",
       "Current health expenditure (% of GDP)                                                                      29\n",
       "GDP (current LCU)                                                                                          52\n",
       "Taxes on goods and services (current LCU)                                                                 105\n",
       "Teenage mothers (% of women ages 15-19 who have had children or are currently pregnant)                   169\n",
       "GINI index (World Bank estimate)                                                                          103\n",
       "Taxes on income, profits and capital gains (current LCU)                                                  106\n",
       "GDP (current US$)                                                                                           8\n",
       "Internally displaced persons, new displacement associated with conflict and violence (number of cases)    197\n",
       "Taxes on income, profits and capital gains (% of total taxes)                                             106\n",
       "Taxes on goods and services (current US$)                                                                 106\n",
       "Taxes on income, profits and capital gains (current US$)                                                  107\n",
       "dtype: int64"
      ]
     },
     "execution_count": 65,
     "metadata": {},
     "output_type": "execute_result"
    }
   ],
   "source": [
    "data_avg.isnull().sum()"
   ]
  },
  {
   "cell_type": "code",
   "execution_count": 66,
   "metadata": {
    "collapsed": true
   },
   "outputs": [],
   "source": [
    "# keep only countried reported gini indexes\n",
    "sub_avg = data_avg.iloc[data_avg.loc[:,\"GINI index (World Bank estimate)\"].dropna().index,:]"
   ]
  },
  {
   "cell_type": "code",
   "execution_count": 67,
   "metadata": {
    "scrolled": true
   },
   "outputs": [
    {
     "data": {
      "text/plain": [
       "Country Name                                                                                              0.000000\n",
       "Country Code                                                                                              0.000000\n",
       "Unemployment, total (% of total labor force) (national estimate)                                          0.024845\n",
       "Current health expenditure (% of GDP)                                                                     0.012422\n",
       "GDP (current LCU)                                                                                         0.000000\n",
       "Taxes on goods and services (current LCU)                                                                 0.155280\n",
       "Teenage mothers (% of women ages 15-19 who have had children or are currently pregnant)                   0.453416\n",
       "GINI index (World Bank estimate)                                                                          0.000000\n",
       "Taxes on income, profits and capital gains (current LCU)                                                  0.155280\n",
       "GDP (current US$)                                                                                         0.000000\n",
       "Internally displaced persons, new displacement associated with conflict and violence (number of cases)    0.695652\n",
       "Taxes on income, profits and capital gains (% of total taxes)                                             0.155280\n",
       "Taxes on goods and services (current US$)                                                                 0.161491\n",
       "Taxes on income, profits and capital gains (current US$)                                                  0.161491\n",
       "dtype: float64"
      ]
     },
     "execution_count": 67,
     "metadata": {},
     "output_type": "execute_result"
    }
   ],
   "source": [
    "sub_avg.isnull().sum()/sub_avg.shape[0]"
   ]
  },
  {
   "cell_type": "markdown",
   "metadata": {},
   "source": [
    "- Two data columns [Internally displaced persons, new displacement associated with conflict and violence (number of cases), and Teenage mothers (% of women ages 15-19 who have had children or are currently pregnant)] are highly sparse, so they are excluded from the analysis."
   ]
  },
  {
   "cell_type": "code",
   "execution_count": 95,
   "metadata": {
    "collapsed": true
   },
   "outputs": [],
   "source": [
    "# get rid of massively missing data & fill missing data with median\n",
    "filled_avg = sub_avg.loc[:,['Country Code',\n",
    "       'Unemployment, total (% of total labor force) (national estimate)',\n",
    "       'GDP (current US$)',\n",
    "       'Current health expenditure (% of GDP)',\n",
    "       'GINI index (World Bank estimate)',\n",
    "       'Taxes on income, profits and capital gains (% of total taxes)',\n",
    "       'Taxes on goods and services (current US$)',\n",
    "       'Taxes on income, profits and capital gains (current US$)']].fillna(sub_avg.median())"
   ]
  },
  {
   "cell_type": "code",
   "execution_count": 96,
   "metadata": {},
   "outputs": [
    {
     "data": {
      "text/plain": [
       "(161, 8)"
      ]
     },
     "execution_count": 96,
     "metadata": {},
     "output_type": "execute_result"
    }
   ],
   "source": [
    "# data info\n",
    "filled_avg.shape"
   ]
  },
  {
   "cell_type": "code",
   "execution_count": 97,
   "metadata": {
    "collapsed": true
   },
   "outputs": [],
   "source": [
    "# split X, y\n",
    "X_avg = filled_avg.drop([\"Country Code\", \"GINI index (World Bank estimate)\"], axis = 1)\n",
    "Y_avg = filled_avg.loc[:, \"GINI index (World Bank estimate)\"]"
   ]
  },
  {
   "cell_type": "code",
   "execution_count": 98,
   "metadata": {
    "collapsed": true
   },
   "outputs": [],
   "source": [
    "# standardization\n",
    "scl = StandardScaler(copy=True, with_mean=True, with_std=True)\n",
    "X_avg_std = scl.fit_transform(X_avg)"
   ]
  },
  {
   "cell_type": "markdown",
   "metadata": {},
   "source": [
    "# # Build Model"
   ]
  },
  {
   "cell_type": "markdown",
   "metadata": {},
   "source": [
    "## - Simple"
   ]
  },
  {
   "cell_type": "code",
   "execution_count": 99,
   "metadata": {},
   "outputs": [
    {
     "data": {
      "text/plain": [
       "0.05483929028398715"
      ]
     },
     "execution_count": 99,
     "metadata": {},
     "output_type": "execute_result"
    }
   ],
   "source": [
    "lr = LinearRegression()\n",
    "lr1 = LinearRegression.fit(lr, X = X_avg_std, y = Y_avg)\n",
    "\n",
    "# Score of the linear model\n",
    "lr1.score(X_avg_std, Y_avg)"
   ]
  },
  {
   "cell_type": "code",
   "execution_count": 100,
   "metadata": {},
   "outputs": [
    {
     "name": "stdout",
     "output_type": "stream",
     "text": [
      "                                   OLS Regression Results                                   \n",
      "============================================================================================\n",
      "Dep. Variable:     GINI index (World Bank estimate)   R-squared:                       0.055\n",
      "Model:                                          OLS   Adj. R-squared:                  0.018\n",
      "Method:                               Least Squares   F-statistic:                     1.489\n",
      "Date:                              Thu, 14 Feb 2019   Prob (F-statistic):              0.185\n",
      "Time:                                      12:13:57   Log-Likelihood:                -565.44\n",
      "No. Observations:                               161   AIC:                             1145.\n",
      "Df Residuals:                                   154   BIC:                             1166.\n",
      "Df Model:                                         6                                         \n",
      "Covariance Type:                          nonrobust                                         \n",
      "==============================================================================\n",
      "                 coef    std err          t      P>|t|      [0.025      0.975]\n",
      "------------------------------------------------------------------------------\n",
      "const         39.5799      0.654     60.564      0.000      38.289      40.871\n",
      "x1             1.3509      0.661      2.044      0.043       0.045       2.656\n",
      "x2             2.0145      3.460      0.582      0.561      -4.820       8.849\n",
      "x3            -1.3402      0.725     -1.848      0.067      -2.773       0.093\n",
      "x4            -0.1414      0.739     -0.191      0.849      -1.601       1.319\n",
      "x5            -0.1854      0.833     -0.223      0.824      -1.831       1.460\n",
      "x6            -2.0100      3.425     -0.587      0.558      -8.776       4.756\n",
      "==============================================================================\n",
      "Omnibus:                        6.268   Durbin-Watson:                   1.811\n",
      "Prob(Omnibus):                  0.044   Jarque-Bera (JB):                6.279\n",
      "Skew:                           0.448   Prob(JB):                       0.0433\n",
      "Kurtosis:                       2.633   Cond. No.                         11.9\n",
      "==============================================================================\n",
      "\n",
      "Warnings:\n",
      "[1] Standard Errors assume that the covariance matrix of the errors is correctly specified.\n"
     ]
    }
   ],
   "source": [
    "# Report the coefficients\n",
    "X2 = sm.add_constant(X_avg_std)\n",
    "est = sm.OLS(Y_avg, X2)\n",
    "est2 = est.fit()\n",
    "print(est2.summary())"
   ]
  },
  {
   "cell_type": "code",
   "execution_count": 101,
   "metadata": {},
   "outputs": [
    {
     "data": {
      "text/plain": [
       "[(1, 'Unemployment, total (% of total labor force) (national estimate)'),\n",
       " (2, 'GDP (current US$)'),\n",
       " (3, 'Current health expenditure (% of GDP)'),\n",
       " (4, 'Taxes on income, profits and capital gains (% of total taxes)'),\n",
       " (5, 'Taxes on goods and services (current US$)'),\n",
       " (6, 'Taxes on income, profits and capital gains (current US$)')]"
      ]
     },
     "execution_count": 101,
     "metadata": {},
     "output_type": "execute_result"
    }
   ],
   "source": [
    "list(zip(range(1,10),X_avg.columns))"
   ]
  },
  {
   "cell_type": "markdown",
   "metadata": {},
   "source": [
    "> In terms of linear correlation, the only significant correlation is that unemployment is positively correlated with inequality (measured by gini index)."
   ]
  },
  {
   "cell_type": "markdown",
   "metadata": {},
   "source": [
    "## - Tree model"
   ]
  },
  {
   "cell_type": "code",
   "execution_count": 117,
   "metadata": {},
   "outputs": [
    {
     "data": {
      "text/plain": [
       "0.8800232146648389"
      ]
     },
     "execution_count": 117,
     "metadata": {},
     "output_type": "execute_result"
    }
   ],
   "source": [
    "model = GradientBoostingRegressor()\n",
    "#train the model\n",
    "model.fit(X_avg_std, Y_avg)\n",
    "#eval the model\n",
    "model.score(X_avg_std, Y_avg)"
   ]
  },
  {
   "cell_type": "code",
   "execution_count": 118,
   "metadata": {},
   "outputs": [
    {
     "data": {
      "text/plain": [
       "([<matplotlib.axis.YTick at 0x10ea2a908>,\n",
       "  <matplotlib.axis.YTick at 0x10eb53c88>,\n",
       "  <matplotlib.axis.YTick at 0x10ea34dd8>,\n",
       "  <matplotlib.axis.YTick at 0x10ea5c390>,\n",
       "  <matplotlib.axis.YTick at 0x10ea5c080>,\n",
       "  <matplotlib.axis.YTick at 0x10ea585c0>],\n",
       " <a list of 6 Text yticklabel objects>)"
      ]
     },
     "execution_count": 118,
     "metadata": {},
     "output_type": "execute_result"
    },
    {
     "data": {
      "image/png": "[encoded data removed]",
      "text/plain": [
       "<matplotlib.figure.Figure at 0x10d134710>"
      ]
     },
     "metadata": {
      "needs_background": "light"
     },
     "output_type": "display_data"
    }
   ],
   "source": [
    "plt.barh(range(X_avg.shape[1]),sorted(model.feature_importances_))\n",
    "plt.yticks(range(X_avg.shape[1]), tuple(X_avg.columns[np.argsort(model.feature_importances_)]))"
   ]
  },
  {
   "cell_type": "code",
   "execution_count": 119,
   "metadata": {},
   "outputs": [
    {
     "data": {
      "image/png": "[encoded data removed]",
      "text/plain": [
       "<matplotlib.figure.Figure at 0x10d0b68d0>"
      ]
     },
     "metadata": {
      "needs_background": "light"
     },
     "output_type": "display_data"
    }
   ],
   "source": [
    "features = list(range(6))\n",
    "fig, axs = plot_partial_dependence(model, X_avg, features,\n",
    "                                   feature_names=X_avg.columns, \n",
    "                                   n_cols = 3,\n",
    "                                   n_jobs=2, grid_resolution=30,\n",
    "                                  figsize=(18, 10))\n",
    "fig.suptitle('Partial dependence of Gini Index on Features', size = 30)\n",
    "plt.subplots_adjust(top=0.9)  # tight_layout causes overlap with suptitle"
   ]
  },
  {
   "cell_type": "markdown",
   "metadata": {},
   "source": [
    "> According to historical data, most of the economic/welfare indexes are uncorrelated with inequality. GDP, health expenditure as a % of GDP, and varies taxes (and teenage pregancy & missplaced people when included) all fell into this finding. Of course there are other measures for economy and life quality, but no matter what the economists claim, inequality do not correlate with the previously mentioned measures."
   ]
  },
  {
   "cell_type": "markdown",
   "metadata": {},
   "source": [
    "> Tthe only feature that seems to be correlated with the Gini index is Unemployment % of total labor force. It is not stricly linearly correlated with the Gini index.\n",
    "Based on the partial dependency plots, some of the most interesting findings are:\n",
    "1. When unemployment rate is under 2%, it is positivley correlated with the Gini index. i.e. A higher inequality is correlated with higher unemployment. This corroborates the finding in the linear model.\n",
    "2. When unemployment is between 2% and 5%, it is negativley correlated with the Gini index. i.e. A higher inequality is correlated with lower unemployment.\n",
    "3. When unemployment is over 5%, there is no correlation between unemployment and the Gini index.\n",
    "\n",
    "\n",
    "What's the significance of these cutoff points? How many countries fall into the each of the 3 bins (< 2%, 2-5%, > 5%)?"
   ]
  },
  {
   "cell_type": "code",
   "execution_count": 134,
   "metadata": {},
   "outputs": [
    {
     "data": {
      "text/html": [
       "<div>\n",
       "<style>\n",
       "    .dataframe thead tr:only-child th {\n",
       "        text-align: right;\n",
       "    }\n",
       "\n",
       "    .dataframe thead th {\n",
       "        text-align: left;\n",
       "    }\n",
       "\n",
       "    .dataframe tbody tr th {\n",
       "        vertical-align: top;\n",
       "    }\n",
       "</style>\n",
       "<table border=\"1\" class=\"dataframe\">\n",
       "  <thead>\n",
       "    <tr style=\"text-align: right;\">\n",
       "      <th></th>\n",
       "      <th>index</th>\n",
       "      <th>Country Name</th>\n",
       "    </tr>\n",
       "  </thead>\n",
       "  <tbody>\n",
       "    <tr>\n",
       "      <th>0</th>\n",
       "      <td>16</td>\n",
       "      <td>Benin</td>\n",
       "    </tr>\n",
       "    <tr>\n",
       "      <th>1</th>\n",
       "      <td>121</td>\n",
       "      <td>Cambodia</td>\n",
       "    </tr>\n",
       "    <tr>\n",
       "      <th>2</th>\n",
       "      <td>125</td>\n",
       "      <td>Kuwait</td>\n",
       "    </tr>\n",
       "    <tr>\n",
       "      <th>3</th>\n",
       "      <td>135</td>\n",
       "      <td>Liechtenstein</td>\n",
       "    </tr>\n",
       "    <tr>\n",
       "      <th>4</th>\n",
       "      <td>171</td>\n",
       "      <td>Niger</td>\n",
       "    </tr>\n",
       "    <tr>\n",
       "      <th>5</th>\n",
       "      <td>198</td>\n",
       "      <td>Qatar</td>\n",
       "    </tr>\n",
       "    <tr>\n",
       "      <th>6</th>\n",
       "      <td>227</td>\n",
       "      <td>Chad</td>\n",
       "    </tr>\n",
       "    <tr>\n",
       "      <th>7</th>\n",
       "      <td>231</td>\n",
       "      <td>Thailand</td>\n",
       "    </tr>\n",
       "    <tr>\n",
       "      <th>8</th>\n",
       "      <td>255</td>\n",
       "      <td>Vietnam</td>\n",
       "    </tr>\n",
       "  </tbody>\n",
       "</table>\n",
       "</div>"
      ],
      "text/plain": [
       "   index   Country Name\n",
       "0     16          Benin\n",
       "1    121       Cambodia\n",
       "2    125         Kuwait\n",
       "3    135  Liechtenstein\n",
       "4    171          Niger\n",
       "5    198          Qatar\n",
       "6    227           Chad\n",
       "7    231       Thailand\n",
       "8    255        Vietnam"
      ]
     },
     "execution_count": 134,
     "metadata": {},
     "output_type": "execute_result"
    }
   ],
   "source": [
    "# under 2% unemployment\n",
    "data_avg['Country Name'][data_avg['Unemployment, total (% of total labor force) (national estimate)'].apply(\n",
    "    lambda row: row<=2)].reset_index()"
   ]
  },
  {
   "cell_type": "markdown",
   "metadata": {},
   "source": [
    "> These 9 countries may have a postive association between inequality and unemployment. A lower inequality level may be seen with lower unemployment rate. "
   ]
  },
  {
   "cell_type": "code",
   "execution_count": 145,
   "metadata": {
    "scrolled": true
   },
   "outputs": [
    {
     "name": "stdout",
     "output_type": "stream",
     "text": [
      "# of countries: 71\n"
     ]
    },
    {
     "data": {
      "text/plain": [
       "1                                      Afghanistan\n",
       "6                             United Arab Emirates\n",
       "12                                         Austria\n",
       "13                                      Azerbaijan\n",
       "14                                         Burundi\n",
       "17                                    Burkina Faso\n",
       "18                                      Bangladesh\n",
       "20                                         Bahrain\n",
       "23                                         Belarus\n",
       "30                                          Bhutan\n",
       "35                                     Switzerland\n",
       "38                                           China\n",
       "39                                   Cote d'Ivoire\n",
       "41                                Congo, Dem. Rep.\n",
       "44                                         Comoros\n",
       "48                                            Cuba\n",
       "59     East Asia & Pacific (excluding high income)\n",
       "60                      Early-demographic dividend\n",
       "61                             East Asia & Pacific\n",
       "70                                        Ethiopia\n",
       "76                                   Faroe Islands\n",
       "83                                          Guinea\n",
       "90                                       Guatemala\n",
       "94                            Hong Kong SAR, China\n",
       "95                                        Honduras\n",
       "101                               IDA & IBRD total\n",
       "103                                      IDA blend\n",
       "104                                      Indonesia\n",
       "106                                    Isle of Man\n",
       "107                                          India\n",
       "                          ...                     \n",
       "147                                         Monaco\n",
       "149                                     Madagascar\n",
       "150                                       Maldives\n",
       "152                                         Mexico\n",
       "154                                  Middle income\n",
       "158                                        Myanmar\n",
       "163                                     Mozambique\n",
       "167                                       Malaysia\n",
       "172                                        Nigeria\n",
       "175                                         Norway\n",
       "176                                          Nepal\n",
       "180                                           Oman\n",
       "182                                       Pakistan\n",
       "187                               Papua New Guinea\n",
       "201                                         Rwanda\n",
       "202                                     South Asia\n",
       "206                                      Singapore\n",
       "207                                Solomon Islands\n",
       "208                                   Sierra Leone\n",
       "210                                     San Marino\n",
       "228     East Asia & Pacific (IDA & IBRD countries)\n",
       "230                                           Togo\n",
       "232                                     Tajikistan\n",
       "233                                   Turkmenistan\n",
       "237                                          Tonga\n",
       "238                        South Asia (IDA & IBRD)\n",
       "244                                       Tanzania\n",
       "245                                         Uganda\n",
       "250                                     Uzbekistan\n",
       "253                         British Virgin Islands\n",
       "Name: Country Name, Length: 71, dtype: object"
      ]
     },
     "execution_count": 145,
     "metadata": {},
     "output_type": "execute_result"
    }
   ],
   "source": [
    "# between 2% and 5% unemployment\n",
    "print(\"# of countries:\", data_avg['Unemployment, total (% of total labor force) (national estimate)'].apply(\n",
    "    lambda row: row>2 and row <5).sum())\n",
    "data_avg['Country Name'][data_avg['Unemployment, total (% of total labor force) (national estimate)'].apply(\n",
    "    lambda row: row>2 and row <5)]"
   ]
  },
  {
   "cell_type": "markdown",
   "metadata": {},
   "source": [
    "> Theses 71 countries may have negative correlation between inequality and unemployment. More inequality may be seen with lower unemployment rate."
   ]
  },
  {
   "cell_type": "code",
   "execution_count": 146,
   "metadata": {
    "scrolled": true
   },
   "outputs": [
    {
     "name": "stdout",
     "output_type": "stream",
     "text": [
      "# of countries: 159\n"
     ]
    },
    {
     "data": {
      "text/plain": [
       "0                                                  Aruba\n",
       "2                                                 Angola\n",
       "3                                                Albania\n",
       "5                                             Arab World\n",
       "7                                              Argentina\n",
       "8                                                Armenia\n",
       "9                                         American Samoa\n",
       "10                                   Antigua and Barbuda\n",
       "11                                             Australia\n",
       "15                                               Belgium\n",
       "19                                              Bulgaria\n",
       "21                                          Bahamas, The\n",
       "22                                Bosnia and Herzegovina\n",
       "24                                                Belize\n",
       "25                                               Bermuda\n",
       "26                                               Bolivia\n",
       "27                                                Brazil\n",
       "28                                              Barbados\n",
       "29                                     Brunei Darussalam\n",
       "31                                              Botswana\n",
       "33                                                Canada\n",
       "34                        Central Europe and the Baltics\n",
       "37                                                 Chile\n",
       "40                                              Cameroon\n",
       "42                                           Congo, Rep.\n",
       "43                                              Colombia\n",
       "45                                            Cabo Verde\n",
       "46                                            Costa Rica\n",
       "47                                Caribbean small states\n",
       "49                                               Curacao\n",
       "                             ...                        \n",
       "218                                             Suriname\n",
       "219                                      Slovak Republic\n",
       "220                                             Slovenia\n",
       "221                                               Sweden\n",
       "222                                             Eswatini\n",
       "224                                           Seychelles\n",
       "225                                 Syrian Arab Republic\n",
       "226                             Turks and Caicos Islands\n",
       "229         Europe & Central Asia (IDA & IBRD countries)\n",
       "234    Latin America & the Caribbean (IDA & IBRD coun...\n",
       "235                                          Timor-Leste\n",
       "236    Middle East & North Africa (IDA & IBRD countries)\n",
       "240                                  Trinidad and Tobago\n",
       "241                                              Tunisia\n",
       "242                                               Turkey\n",
       "243                                               Tuvalu\n",
       "246                                              Ukraine\n",
       "247                                  Upper middle income\n",
       "248                                              Uruguay\n",
       "249                                        United States\n",
       "251                       St. Vincent and the Grenadines\n",
       "252                                        Venezuela, RB\n",
       "256                                              Vanuatu\n",
       "257                                                World\n",
       "258                                                Samoa\n",
       "259                                               Kosovo\n",
       "260                                          Yemen, Rep.\n",
       "261                                         South Africa\n",
       "262                                               Zambia\n",
       "263                                             Zimbabwe\n",
       "Name: Country Name, Length: 159, dtype: object"
      ]
     },
     "execution_count": 146,
     "metadata": {},
     "output_type": "execute_result"
    }
   ],
   "source": [
    "# over 5% unemployment\n",
    "print(\"# of countries:\", data_avg['Unemployment, total (% of total labor force) (national estimate)'].apply(\n",
    "    lambda row: row>5).sum())\n",
    "data_avg['Country Name'][data_avg['Unemployment, total (% of total labor force) (national estimate)'].apply(\n",
    "    lambda row: row>5)]"
   ]
  },
  {
   "cell_type": "markdown",
   "metadata": {},
   "source": [
    "> Most of the countries (159) do not have a correlation between inequality and unemployment. Moreover, as previously stated, inequality do not seem to correlate with any other measure included in this study."
   ]
  },
  {
   "cell_type": "markdown",
   "metadata": {},
   "source": [
    "<a id='Parting_words'></a>\n",
    "# # Parting Words\n",
    "Obviously, this exercise is quite rudimentary so more sophisticated analysis can be done to explore the inter-relationship in more details. Some next steps that can be taken are:\n",
    "\n",
    "1. Gather data from all countries in the world. Currently only 70 countries reported their Gini index thus the study is not comprehensive.\n",
    "2. Revisit the measures for all subjects of interest. For example, is GDP a good measure for a country's overall properity? Is gini index the best one to represent inequality?\n",
    "3. Go narrow instead of broad. For example, focusing on a particular group of countries to study what economic/welfare measures correlate the inequality. The last finding on the stratified effect of unemployment on inequality can be a motivation. For instance, another way to conduct focused study if to group countries by GDP."
   ]
  },
  {
   "cell_type": "markdown",
   "metadata": {},
   "source": [
    "### So what's the takeaway from this exercise?\n",
    "\n",
    "Based on almost 4 decades of historical data, **inequality did not seem to correlate with some common social issues**: no correlation found with some economic measures (e.g. GDP and taxes on income or goods) or some life quality measures (e.g. healthcare expenditure, teen pregnancy, and mis-placed people). The only correlations found are between inequality and certain ranges of unemployment rates. The direction of the correlation also does a 180 in different ranges. Thus, from this study, it seems like inequality is relatively detached from many major social issues.\n",
    "\n",
    "Does that make inequality not an issue? It really depends on the definition of inequality. Is it likely that there would be no perfect equality when it comes to wealth. I don't disagree with rewarding more talent with more pay. Yet when people are unfairly subject to inequality, for example when their talent is not reciprocated at a fair value, then it is a issue. It then becomes a issue of a violation on ethics and fairness. \n",
    "\n",
    "What is a more actionable focus in my perspective, however, is **providing equal opportunities**. Is it likely that there would be no perfect equality when it comes to wealth. With that in mind, people who have influence in the society should instead focus on giving all people access to the same opportunities, some of which would be unattainable to under-priviledged people given their income level. The end result of such a gesture will not be wealth equality either. Instead, it will give each person an equal opportunity to become his/her best self.\n",
    "\n",
    "Here is an example of what I mean by equal opportunities. Having tiered or entirely free entrance fee to an art musuem. This will allow people of all income level to have the same access to culture and art.\n",
    "\n",
    "To gain the financial means to make such a change, it is understandable that a government's most straight-forward solution is to increase tax. However, two things should be kept in mind.\n",
    "1. This is only a means to an end. Per the study, there is no correlation between the amount of taxes collected on income or goods and (in)equality.\n",
    "2. Some systemetic changes require financial support while most require **mental support**. A change can be as simple as not shutting down a person's speech just because he is wearing shabby clothes (for all we know he might just be Mark Zuckerberg). **A change like that can be made by every single one of us starting from this very moment.**"
   ]
  }
 ],
 "metadata": {
  "kernelspec": {
   "display_name": "Python [conda env:anaconda]",
   "language": "python",
   "name": "conda-env-anaconda-py"
  },
  "language_info": {
   "codemirror_mode": {
    "name": "ipython",
    "version": 3
   },
   "file_extension": ".py",
   "mimetype": "text/x-python",
   "name": "python",
   "nbconvert_exporter": "python",
   "pygments_lexer": "ipython3",
   "version": "3.5.3"
  }
 },
 "nbformat": 4,
 "nbformat_minor": 2
}
